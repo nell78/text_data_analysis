{
  "nbformat": 4,
  "nbformat_minor": 0,
  "metadata": {
    "colab": {
      "provenance": [],
      "include_colab_link": true
    },
    "kernelspec": {
      "name": "python3",
      "display_name": "Python 3"
    },
    "language_info": {
      "name": "python"
    }
  },
  "cells": [
    {
      "cell_type": "markdown",
      "metadata": {
        "id": "view-in-github",
        "colab_type": "text"
      },
      "source": [
        "<a href=\"https://colab.research.google.com/github/nell78/text_data_analysis/blob/main/exercise/GIS.ipynb\" target=\"_parent\"><img src=\"https://colab.research.google.com/assets/colab-badge.svg\" alt=\"Open In Colab\"/></a>"
      ]
    },
    {
      "cell_type": "code",
      "source": [
        "import numpy as np\n",
        "import matplotlib.pyplot as plt\n",
        "import matplotlib.colors as mcolors\n",
        "\n",
        "data = np.array([\n",
        "    [0, 0, 0, 0, 0, 0, 0, 0, 0, 0],\n",
        "    [0, 2, 1, 1, 1, 0, 2, 1, 0, 0],\n",
        "    [0, 1, 0, 0, 1, 0, 0, 1, 0, 0],\n",
        "    [0, 1, 1, 1, 1, 0, 0, 1, 3, 0],\n",
        "    [0, 0, 0, 1, 0, 0, 0, 1, 1, 0],\n",
        "    [0, 1, 1, 1, 1, 0, 0, 0, 1, 0],\n",
        "    [0, 1, 0, 3, 1, 0, 0, 4, 1, 0],\n",
        "    [0, 1, 1, 1, 1, 1, 1, 1, 1, 0],\n",
        "    [0, 2, 0, 0, 0, 0, 0, 0, 0, 0],\n",
        "    [0, 0, 0, 0, 0, 0, 0, 0, 0, 0],\n",
        "])\n",
        "print(data)\n",
        "colors = {\n",
        "    0: (\"white\", \" \"),\n",
        "    1: (\"grey\", \"--\"),\n",
        "    2: (\"blue\", \"Station\"),\n",
        "    3: (\"red\", \"Hospital\"),\n",
        "    4: (\"green\", \"School\"),\n",
        "}\n",
        "\n",
        "def plot_city(data, colors):\n",
        "    plt.figure(figsize=(8, 8))\n",
        "    city_map = np.zeros((data.shape[0], data.shape[1], 3))\n",
        "    for value, (color, _) in colors.items():\n",
        "        rgb_color = mcolors.to_rgb(color)\n",
        "        city_map[data == value] = rgb_color\n",
        "\n",
        "    plt.imshow(city_map, interpolation='nearest')\n",
        "\n",
        "    for (i, j), value in np.ndenumerate(data):\n",
        "        if value in colors:\n",
        "            plt.text(j, i, colors[value][1], ha='center', va='center', color='black', fontsize=12)\n",
        "\n",
        "    plt.grid(False)\n",
        "    plt.xticks(ticks=np.arange(10), labels=np.arange(1, 11))\n",
        "    plt.yticks(ticks=np.arange(10), labels=np.arange(1, 11))\n",
        "    plt.xlabel('X')\n",
        "    plt.ylabel('Y')\n",
        "    plt.title('Map1')\n",
        "    plt.show()\n",
        "\n",
        "plot_city(data, colors)\n"
      ],
      "metadata": {
        "colab": {
          "base_uri": "https://localhost:8080/",
          "height": 902
        },
        "collapsed": true,
        "id": "pyJQ5XdP8FnX",
        "outputId": "57c48460-b7b8-41ea-847e-ea7cf9edc80d"
      },
      "execution_count": null,
      "outputs": [
        {
          "output_type": "stream",
          "name": "stdout",
          "text": [
            "[[0 0 0 0 0 0 0 0 0 0]\n",
            " [0 2 1 1 1 0 2 1 0 0]\n",
            " [0 1 0 0 1 0 0 1 0 0]\n",
            " [0 1 1 1 1 0 0 1 3 0]\n",
            " [0 0 0 1 0 0 0 1 1 0]\n",
            " [0 1 1 1 1 0 0 0 1 0]\n",
            " [0 1 0 3 1 0 0 4 1 0]\n",
            " [0 1 1 1 1 1 1 1 1 0]\n",
            " [0 2 0 0 0 0 0 0 0 0]\n",
            " [0 0 0 0 0 0 0 0 0 0]]\n"
          ]
        },
        {
          "output_type": "display_data",
          "data": {
            "text/plain": [
              "<Figure size 800x800 with 1 Axes>"
            ],
            "image/png": "[encoded data removed]"
          },
          "metadata": {}
        }
      ]
    },
    {
      "cell_type": "code",
      "source": [
        "import numpy as np\n",
        "import matplotlib.pyplot as plt\n",
        "\n",
        "data = np.array([\n",
        "    [  0,   0,   0,   0,   0,   0,   0,   0,   0,   0,   0,   0,   0,   0,   0,   0,   0,   0],\n",
        "    [  0,   0,  10,  20,  30,  40,  50,  60,  70,  60,  50,  40,  30,  20,  10,   0,   0,   0],\n",
        "    [  0,   0,  20,  30,  50,  70, 100, 120, 130, 120, 100,  70,  50,  30,  20,   0,   0,   0],\n",
        "    [  0,   0,  30,  50,  70, 100, 150, 170, 180, 170, 150, 100,  70,  50,  30,   0,   0,   0],\n",
        "    [  0,   0,  40,  70, 100, 150, 180, 200, 210, 200, 180, 150, 100,  70,  40,   0,   0,   0],\n",
        "    [  0,   0,  30,  50,  70, 100, 150, 170, 180, 170, 150, 100,  70,  50,  30,   0,   0,   0],\n",
        "    [  0,   0,  20,  30,  50,  70, 100, 120, 130, 120, 100,  70,  50,  30,  20,   0,   0,   0],\n",
        "    [  0,   0,   0,   0,   0,   0,   0,   0,   0,   0,   0,   0,   0,   0,   0,   0,   0,   0],\n",
        "    [  0,   0,   0,   0,   0,   0,   0,   0,   0,   0,   0,   0,   0,   0,   0,   0,   0,   0],\n",
        "    [  0,   0,   0,   0,  10,  20,  30,  40,  50,  60,  70,  60,  50,  40,  30,  20,  10,   0],\n",
        "    [  0,   0,   0,   0,  20,  30,  50,  70, 100, 120, 130, 120, 100,  70,  50,  30,  20,   0],\n",
        "    [  0,   0,   0,   0,  30,  50,  70, 100, 150, 170, 180, 170, 150, 100,  70,  50,  30,   0],\n",
        "    [  0,   0,   0,   0,  40,  70, 100, 150, 180, 200, 210, 200, 180, 150, 100,  70,  40,   0],\n",
        "    [  0,   0,   0,   0,  30,  50,  70, 100, 150, 170, 180, 170, 150, 100,  70,  50,  30,   0],\n",
        "    [  0,   0,   0,   0,  20,  30,  50,  70, 100, 120, 130, 120, 100,  70,  50,  30,  20,   0],\n",
        "    [  0,   0,   0,   0,   0,   0,   0,   0,   0,   0,   0,   0,   0,   0,   0,   0,   0,   0],\n",
        "])\n",
        "\n",
        "\n",
        "def plot_raster(data):\n",
        "    plt.figure(figsize=(10, 10))\n",
        "    plt.imshow(data, cmap='gray_r', interpolation='nearest')\n",
        "    plt.colorbar(label='Elevation (meters)')\n",
        "    for (i, j), value in np.ndenumerate(data):\n",
        "        plt.text(j, i, f'{value}', ha='center', va='center', color='black' if value > 0 else 'blue', fontsize=8)\n",
        "    plt.grid(False)\n",
        "    plt.xticks(ticks=np.arange(18), labels=np.arange(1, 19))\n",
        "    plt.yticks(ticks=np.arange(16), labels=np.arange(1, 17))\n",
        "    plt.xlabel('Column Index')\n",
        "    plt.ylabel('Row Index')\n",
        "    plt.title('Map2')\n",
        "    plt.show()\n",
        "\n",
        "plot_raster(data)"
      ],
      "metadata": {
        "id": "JF3h1vwqilqK"
      },
      "execution_count": null,
      "outputs": []
    },
    {
      "cell_type": "code",
      "source": [
        "import numpy as np\n",
        "import matplotlib.pyplot as plt\n",
        "\n",
        "temperature_data = np.random.randint(-10, 41, size=(10, 10))\n",
        "\n",
        "def plot_temperature_raster(data):\n",
        "    plt.figure(figsize=(10, 10))\n",
        "    plt.imshow(data, cmap='coolwarm', interpolation='nearest')\n",
        "    plt.colorbar(label='Temperature (°C)')\n",
        "    for (i, j), value in np.ndenumerate(data):\n",
        "        plt.text(j, i, f'{value}°C', ha='center', va='center', color='black' if value >= 0 else 'white', fontsize=8)\n",
        "    plt.grid(False)\n",
        "    plt.xticks(ticks=np.arange(10), labels=np.arange(1, 11))\n",
        "    plt.yticks(ticks=np.arange(10), labels=np.arange(1, 11))\n",
        "    plt.xlabel('Column Index')\n",
        "    plt.ylabel('Row Index')\n",
        "    plt.title('Temperature Map')\n",
        "    plt.show()\n",
        "\n",
        "plot_temperature_raster(temperature_data)"
      ],
      "metadata": {
        "id": "rziV4CFBAxbL"
      },
      "execution_count": null,
      "outputs": []
    },
    {
      "cell_type": "code",
      "source": [
        "!pip install geopandas folium"
      ],
      "metadata": {
        "id": "ojKNI4E4Btlb"
      },
      "execution_count": null,
      "outputs": []
    },
    {
      "cell_type": "code",
      "execution_count": null,
      "metadata": {
        "id": "MB1H2ll3dplS",
        "collapsed": true
      },
      "outputs": [],
      "source": [
        "import geopandas as gpd\n",
        "import matplotlib.pyplot as plt\n",
        "import folium\n",
        "from shapely.geometry import Point, LineString, Polygon\n",
        "import pandas as pd\n",
        "\n",
        "seoul = Point(126.978, 37.5665)\n",
        "busan = Point(129.0756, 35.1796)\n",
        "jeju_polygon = Polygon([(126.198, 33.097), (127.098, 33.097),\n",
        "                        (127.098, 33.575), (126.198, 33.575)])\n",
        "dokdo = Point(131.869, 37.248)\n",
        "\n",
        "data = {\n",
        "    'name': ['서울', '부산', '제주도', '독도'],\n",
        "    'geometry': [seoul, busan, jeju_polygon, dokdo]\n",
        "}\n",
        "\n",
        "gdf = gpd.GeoDataFrame(data, crs=\"EPSG:4326\")\n",
        "\n",
        "line_seoul_busan = LineString([seoul, busan])\n",
        "line_gdf = gpd.GeoDataFrame({'name': ['서울-부산 선'], 'geometry': [line_seoul_busan]}, crs=\"EPSG:4326\")\n",
        "gdf = gpd.GeoDataFrame(pd.concat([gdf, line_gdf], ignore_index=True))\n",
        "\n",
        "def plot_vector_data(gdf):\n",
        "    fig, ax = plt.subplots(figsize=(10, 10))\n",
        "    gdf.plot(ax=ax, color='lightgrey', edgecolor='black', linewidth=1)\n",
        "    plt.xlabel('Longitude')\n",
        "    plt.ylabel('Latitude')\n",
        "    plt.title('Korea - Graph')\n",
        "    plt.grid()\n",
        "    plt.show()\n",
        "\n",
        "plot_vector_data(gdf)\n",
        "\n",
        "def plot_folium_map(gdf):\n",
        "    m = folium.Map(location=[36, 128], zoom_start=6)\n",
        "    for _, row in gdf.iterrows():\n",
        "        if isinstance(row.geometry, Point):\n",
        "            folium.Marker([row.geometry.y, row.geometry.x], tooltip=row['name']).add_to(m)\n",
        "        elif isinstance(row.geometry, LineString):\n",
        "            folium.PolyLine(locations=[(y, x) for x, y in zip(*row.geometry.xy)], color='blue').add_to(m)\n",
        "        elif isinstance(row.geometry, Polygon):\n",
        "            folium.Polygon(locations=[(y, x) for x, y in zip(*row.geometry.exterior.xy)], color='green', fill=True, fill_opacity=0.5).add_to(m)\n",
        "    return m\n",
        "\n",
        "m = plot_folium_map(gdf)\n",
        "m\n"
      ]
    }
  ]
}